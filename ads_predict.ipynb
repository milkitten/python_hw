{
 "cells": [
  {
   "cell_type": "code",
   "execution_count": 58,
   "metadata": {},
   "outputs": [
    {
     "data": {
      "text/plain": [
       "True"
      ]
     },
     "execution_count": 58,
     "metadata": {},
     "output_type": "execute_result"
    }
   ],
   "source": [
    "import os\n",
    "os.path.exists(\"data.txt\")"
   ]
  },
  {
   "cell_type": "code",
   "execution_count": 59,
   "metadata": {},
   "outputs": [],
   "source": [
    "import pandas as pd\n",
    "import numpy as np\n",
    "import matplotlib.pyplot as plt\n",
    "from pandas import Series, DataFrame"
   ]
  },
  {
   "cell_type": "code",
   "execution_count": 60,
   "metadata": {},
   "outputs": [],
   "source": [
    "# load data \n",
    "data_dir = \"data.txt\"\n",
    "train = pd.read_csv(data_dir, sep = ' ', header = 0)"
   ]
  },
  {
   "cell_type": "code",
   "execution_count": 61,
   "metadata": {},
   "outputs": [],
   "source": [
    "# 分別對 user_id 和 item_id 做 group by 求轉化率\n",
    "group_item_id = train.groupby('item_id')\n",
    "group_user_id = train.groupby('user_id')\n",
    "\n",
    "item_cv = group_item_id['is_trade'].mean();\n",
    "user_cv = group_user_id['is_trade'].mean();"
   ]
  },
  {
   "cell_type": "code",
   "execution_count": 62,
   "metadata": {},
   "outputs": [
    {
     "name": "stdout",
     "output_type": "stream",
     "text": [
      "item_id\n",
      "696490723789804     0.071429\n",
      "1097631460775571    0.016949\n",
      "1637165183538885    0.000000\n",
      "3341342041473146    0.000000\n",
      "4055398786868336    0.000000\n",
      "Name: is_trade, dtype: float64\n",
      "user_id\n",
      "24779788309075     0.0\n",
      "36134987234568     0.0\n",
      "59341486148291     0.0\n",
      "179317972644611    0.0\n",
      "212049717332865    0.0\n",
      "Name: is_trade, dtype: float64\n",
      "8778\n"
     ]
    }
   ],
   "source": [
    "# 查看前五項結果\n",
    "print(item_cv.head())\n",
    "print(user_cv.head())\n",
    "\n",
    "# filer非零轉化率的廣告/商品\n",
    "idxs = np.nonzero([i > 0 for i in user_cv])\n",
    "print(len(idxs[0]))"
   ]
  },
  {
   "cell_type": "code",
   "execution_count": null,
   "metadata": {},
   "outputs": [],
   "source": []
  }
 ],
 "metadata": {
  "kernelspec": {
   "display_name": "Python 3",
   "language": "python",
   "name": "python3"
  },
  "language_info": {
   "codemirror_mode": {
    "name": "ipython",
    "version": 3
   },
   "file_extension": ".py",
   "mimetype": "text/x-python",
   "name": "python",
   "nbconvert_exporter": "python",
   "pygments_lexer": "ipython3",
   "version": "3.6.4"
  }
 },
 "nbformat": 4,
 "nbformat_minor": 2
}
