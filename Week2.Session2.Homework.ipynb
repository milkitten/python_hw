{
 "cells": [
  {
   "cell_type": "code",
   "execution_count": 3,
   "metadata": {},
   "outputs": [
    {
     "name": "stdout",
     "output_type": "stream",
     "text": [
      "55\n"
     ]
    }
   ],
   "source": [
    "# 1. 递归实现1 + 2 + 3 + … + n\n",
    "def accu_sum(num):\n",
    "    return num + accu_sum(num-1) if num > 0 else 0\n",
    "\n",
    "print(accu_sum(10))"
   ]
  },
  {
   "cell_type": "code",
   "execution_count": 19,
   "metadata": {},
   "outputs": [
    {
     "name": "stdout",
     "output_type": "stream",
     "text": [
      "Bibo :Wow!!\n",
      "LOVE\n",
      "Wong Cai :Wang!!\n",
      "LOVE\n",
      "Abiu :Meow!!\n",
      "LOVE\n"
     ]
    }
   ],
   "source": [
    "# 2. 实现Animal类 從這個類繼承 創建更多的子類\n",
    "class Animal():\n",
    "    def __init__(self, name):\n",
    "        self.name = name\n",
    "    def __str__(self):    \n",
    "        return self.name\n",
    "    def sound(self):\n",
    "        return('Wow!!')  \n",
    "    def _common(self):\n",
    "        return('LOVE')\n",
    "        \n",
    "class Dog(Animal):\n",
    "    def __init__(self, name):\n",
    "        Animal.__init__(self, name)\n",
    "    def sound(self):\n",
    "        return('Wang!!')\n",
    "        \n",
    "class Cat(Animal):\n",
    "    def __init__(self, name):\n",
    "        Animal.__init__(self, name)\n",
    "    def sound(self):\n",
    "        return('Meow!!')\n",
    "you = Animal('Bibo')\n",
    "print(you, end = ' :')\n",
    "print(you.sound())\n",
    "print(you._common())\n",
    "dog = Dog('Wong Cai')\n",
    "print(dog, end = ' :')\n",
    "print(dog.sound())\n",
    "print(dog._common())\n",
    "cat = Cat('Abiu')\n",
    "print(cat, end = ' :')\n",
    "print(cat.sound())\n",
    "print(cat._common())"
   ]
  },
  {
   "cell_type": "code",
   "execution_count": 35,
   "metadata": {},
   "outputs": [
    {
     "name": "stdout",
     "output_type": "stream",
     "text": [
      "练习文件的讀寫 內容任意\n",
      "\n",
      "  我愛草尼瑪\n",
      "\n",
      "test.txt\n"
     ]
    }
   ],
   "source": [
    "# 3. 练习文件的讀寫 內容任意\n",
    "file = open('test.txt', 'w')\n",
    "file.write('练习文件的讀寫 內容任意\\n  我愛草尼瑪\\n')\n",
    "file = open('test.txt', 'r')\n",
    "print(file.readline())\n",
    "print(file.readline())\n",
    "print(file.name)\n",
    "if not file.closed:\n",
    "    file.close()"
   ]
  },
  {
   "cell_type": "code",
   "execution_count": 40,
   "metadata": {},
   "outputs": [
    {
     "name": "stdout",
     "output_type": "stream",
     "text": [
      "<class 'str'>\n",
      "{\"Abiu\": \"cat1\", \"Ding\": \"cat2\", \"Milkitten\": \"Queen\", \"AG\": \"slave\"}\n",
      "{'Abiu': 'cat1', 'Ding': 'cat2', 'Milkitten': 'Queen', 'AG': 'slave'}\n"
     ]
    }
   ],
   "source": [
    "# 4. 使用Json完成字符串和數據之間的轉換\n",
    "import json\n",
    "family = {\n",
    "           'Abiu' : 'cat1',\n",
    "           'Ding' : 'cat2',\n",
    "           'Milkitten' : 'Queen',\n",
    "           'AG' : 'slave'\n",
    "         }\n",
    "encode = json.dumps(family)\n",
    "print(type(encode))\n",
    "print(encode)\n",
    "print(json.loads(encode))"
   ]
  },
  {
   "cell_type": "code",
   "execution_count": null,
   "metadata": {},
   "outputs": [],
   "source": []
  }
 ],
 "metadata": {
  "kernelspec": {
   "display_name": "Python 3",
   "language": "python",
   "name": "python3"
  },
  "language_info": {
   "codemirror_mode": {
    "name": "ipython",
    "version": 3
   },
   "file_extension": ".py",
   "mimetype": "text/x-python",
   "name": "python",
   "nbconvert_exporter": "python",
   "pygments_lexer": "ipython3",
   "version": "3.6.4"
  }
 },
 "nbformat": 4,
 "nbformat_minor": 2
}
